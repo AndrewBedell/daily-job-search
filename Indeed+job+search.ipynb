{
 "cells": [
  {
   "cell_type": "markdown",
   "metadata": {
    "collapsed": true
   },
   "source": [
    "# **Motivation**"
   ]
  },
  {
   "cell_type": "markdown",
   "metadata": {},
   "source": [
    "I am currently in the search for a job and I see that one of the most time-consuming processes is actually searching for a, well, job. Finding all the relevant positions in all the companies across all cities sounds impossible. So, the motivation for creating a tool like this was simple. Search for job roles being posted daily and evaluate (at least very basically) whether the job descriptions match with my skillset. For my analysis, I used Indeed.com, which is a major job aggregator and is used by many people daily."
   ]
  },
  {
   "cell_type": "markdown",
   "metadata": {},
   "source": [
    "# **Overview**"
   ]
  },
  {
   "cell_type": "markdown",
   "metadata": {},
   "source": [
    "This tool would go through all the jobs (type of jobs should be mentioned by the user) in a particular city or cities and add those ones to a list that require particular skills that match with the user's skillset.\n",
    "All of the code is written in the form of functions in order to change parameters,search terms or the number of pages we want to search."
   ]
  },
  {
   "cell_type": "markdown",
   "metadata": {},
   "source": [
    "# **Scoring a job**"
   ]
  },
  {
   "cell_type": "markdown",
   "metadata": {},
   "source": [
    "For my analysis, I would be using the \"data scientist\" position since that is what I am interested in.\n",
    "Evaluating any data science job can't be simple and every company has a different definition for who a \"data scientist\" is. But, we can evaluate it superficially and get to know whether a few keywords exist or not. \n",
    "For my purposes, I'd be using the following keywords:\n",
    "\n",
    "**R**\n",
    "\n",
    "**SQL**\n",
    "\n",
    "**Python**\n",
    "\n",
    "**Hadoop**\n",
    "\n",
    "**Tableau**\n",
    "\n",
    "These are the skills that I possess and therefore if any job description contains any of these words, I want to know about it. Obviously, I won't be applying to every job that contains any of these keywords, but a consolidated list of jobs I COULD apply to is a good start."
   ]
  },
  {
   "cell_type": "code",
   "execution_count": 1,
   "metadata": {
    "collapsed": true
   },
   "outputs": [],
   "source": [
    "#importing the necessary libraries\n",
    "import requests\n",
    "import bs4\n",
    "import re\n",
    "import time\n",
    "import smtplib\n",
    "\n",
    "#Defining a function that would score a job based on the specific keywords you want the job description to contain\n",
    "def job_score(url):\n",
    "    \n",
    "    #obtaining the html script\n",
    "    htmlcomplete = requests.get(url)\n",
    "    htmlcontent = bs4.BeautifulSoup(htmlcomplete.content, 'lxml')\n",
    "    htmlbody = htmlcontent('body')[0]\n",
    "    \n",
    "    #findin all the keywords\n",
    "    r = len(re.findall('R[\\,\\.]', htmlbody.text))\n",
    "    sql = htmlbody.text.count('sql')+htmlbody.text.count('Sql')+htmlbody.text.count('SQL')\n",
    "    python = htmlbody.text.count('python')+htmlbody.text.count('Python')\n",
    "    hadoop = htmlbody.text.count('hadoop')+htmlbody.text.count('Hadoop')+htmlbody.text.count('HADOOP')\n",
    "    tableau = htmlbody.text.count('tableau')+htmlbody.text.count('Tableau')\n",
    "    total=r+python+sql+hadoop+tableau\n",
    "    print ('R count:', r, ',','Python count:', python, ',','SQL count:', sql, ',','Hadoop count:', hadoop, ',','Tableau count:', tableau, ',',)\n",
    "    return total"
   ]
  },
  {
   "cell_type": "markdown",
   "metadata": {},
   "source": [
    "# **Evaluating an example job**"
   ]
  },
  {
   "cell_type": "markdown",
   "metadata": {},
   "source": [
    "Let's evaluate this \"Data Insights Analyst\" job from Homeaway."
   ]
  },
  {
   "cell_type": "code",
   "execution_count": 2,
   "metadata": {},
   "outputs": [
    {
     "name": "stdout",
     "output_type": "stream",
     "text": [
      "R count: 1 , Python count: 1 , SQL count: 2 , Hadoop count: 1 , Tableau count: 1 ,\n"
     ]
    },
    {
     "data": {
      "text/plain": [
       "6"
      ]
     },
     "execution_count": 2,
     "metadata": {},
     "output_type": "execute_result"
    }
   ],
   "source": [
    "job_score('https://www.indeed.com/viewjob?jk=29d57706cae9885e&tk=1c6l78ddmafhgf15&from=serp&vjs=3')"
   ]
  },
  {
   "cell_type": "markdown",
   "metadata": {},
   "source": [
    "# **Looking at the HTML script behind the scenes**"
   ]
  },
  {
   "cell_type": "markdown",
   "metadata": {},
   "source": [
    "To extract any kind of information using the HTML script, we need to know how it is structured and where is the relevant information (needed by us) located in the script)"
   ]
  },
  {
   "cell_type": "code",
   "execution_count": null,
   "metadata": {},
   "outputs": [],
   "source": [
    "#This section of the code lets you see the html script so that you can understand the structure and what information can be extracted from which part of the script \n",
    "URL = 'https://www.indeed.com/jobs?q=data&l=Austin%2C+TX&sort=date'\n",
    "\n",
    "#conducting a request of the stated URL above:\n",
    "complete = requests.get(URL)\n",
    "\n",
    "#specifying a desired format of “page” using the html parser - this allows python to read the various components of the page, rather than treating it as one long string.\n",
    "content = bs4.BeautifulSoup(complete.text, 'html.parser')\n",
    "\n",
    "#printing soup in a more structured tree format that makes for easier reading\n",
    "print(content.prettify())"
   ]
  },
  {
   "cell_type": "markdown",
   "metadata": {},
   "source": [
    "# **Extracting Job Data**"
   ]
  },
  {
   "cell_type": "markdown",
   "metadata": {},
   "source": [
    "The next step after defining a job scoring function, is to define a function that gets you all the relevant information from the HTML script for all the jobs on a single page.\n",
    "We look for non-sponsored or organic jobs and extract the attributes from those. These attributes contain a lot of information that I don't need but we will just let them be. What we do need are the following things:\n",
    "\n",
    "**Name of the company**\n",
    "\n",
    "**Date when the job was posted**\n",
    "\n",
    "**Title**\n",
    "\n",
    "**Hyperlink to the job**"
   ]
  },
  {
   "cell_type": "code",
   "execution_count": 3,
   "metadata": {
    "collapsed": true
   },
   "outputs": [],
   "source": [
    "def jobdata(url):\n",
    "    htmlcomplete2 = requests.get(url)\n",
    "    htmlcontent2 = bs4.BeautifulSoup(htmlcomplete2.content, 'lxml')\n",
    "    #only getting the tags for organic job postings and not the ones thatare sponsored\n",
    "    tags = htmlcontent2.find_all('div', {'data-tn-component' : \"organicJob\"})\n",
    "    #getting the list of companies that have the organic job posting tags\n",
    "    companies = [x.span.text for x in tags]\n",
    "    #extracting the features like the company name, complete link, date, etc.\n",
    "    attributes = [x.h2.a.attrs for x in tags]\n",
    "    dates = [x.find_all('span', {'class':'date'}) for x in tags]\n",
    "    \n",
    "    # update attributes dictionaries with company name and date posted\n",
    "    [attributes[i].update({'company': companies[i].strip()}) for i, x in enumerate(attributes)]\n",
    "    [attributes[i].update({'date posted': dates[i][0].text.strip()}) for i, x in enumerate(attributes)]\n",
    "    return attributes"
   ]
  },
  {
   "cell_type": "markdown",
   "metadata": {},
   "source": [
    "Now we can look at a sample of the attribute dictionary for the first job on the page I have specified."
   ]
  },
  {
   "cell_type": "code",
   "execution_count": 4,
   "metadata": {},
   "outputs": [
    {
     "data": {
      "text/plain": [
       "{'class': ['turnstileLink'],\n",
       " 'company': 'Absolute Software',\n",
       " 'data-tn-element': 'jobTitle',\n",
       " 'date posted': 'Just posted',\n",
       " 'href': '/rc/clk?jk=0829198f649e9c08&fccid=7c30762e902763ee&vjs=3',\n",
       " 'onclick': 'setRefineByCookie([]); return rclk(this,jobmap[0],true,0);',\n",
       " 'onmousedown': 'return rclk(this,jobmap[0],0);',\n",
       " 'rel': ['noopener', 'nofollow'],\n",
       " 'target': '_blank',\n",
       " 'title': 'Data Entry Associate'}"
      ]
     },
     "execution_count": 4,
     "metadata": {},
     "output_type": "execute_result"
    }
   ],
   "source": [
    "jobdata('https://www.indeed.com/jobs?q=data&l=Austin%2C+TX&sort=date')[0]"
   ]
  },
  {
   "cell_type": "markdown",
   "metadata": {},
   "source": [
    "# **Defining a list of cities**"
   ]
  },
  {
   "cell_type": "markdown",
   "metadata": {},
   "source": [
    "We define a list of cities that we want to search for jobs in"
   ]
  },
  {
   "cell_type": "code",
   "execution_count": 5,
   "metadata": {
    "collapsed": true
   },
   "outputs": [],
   "source": [
    "#defining a list of cities you want to search jobs in\n",
    "citylist = ['New+York','Chicago', 'Austin']#, 'San+Francisco', 'Seattle', 'Los+Angeles', 'Philadelphia', 'Atlanta', 'Dallas', 'Pittsburgh', 'Portland', 'Phoenix', 'Denver', 'Houston', 'Miami', 'Washington+DC', 'Boulder']"
   ]
  },
  {
   "cell_type": "markdown",
   "metadata": {},
   "source": [
    "# **Searching for and Scoring all new jobs**"
   ]
  },
  {
   "cell_type": "markdown",
   "metadata": {},
   "source": [
    "I can now loop through Indeed.com and apply the functions defined above to every page. "
   ]
  },
  {
   "cell_type": "code",
   "execution_count": 6,
   "metadata": {
    "collapsed": true
   },
   "outputs": [],
   "source": [
    "#defining a list to store all the relevant jobs\n",
    "newjobslist = []\n",
    "\n",
    "#defining a new function to go through all the jobs posted in the last 'n' days for a specific role\n",
    "#essentially looping over 2 \n",
    "def newjobs(daysago = 1, startingpage = 0, pagelimit = 20, position = 'data+scientist'):\n",
    "    for city in citylist:\n",
    "        indeed_url = 'http://www.indeed.com/jobs?q={0}&l={1}&sort=date&start='.format(position, city)\n",
    "        \n",
    "        \n",
    "        for i in range(startingpage, startingpage + pagelimit):\n",
    "            print ('URL:', str(indeed_url + str(i*10)), '\\n')\n",
    "        \n",
    "            attributes = jobdata(indeed_url + str(i*10))\n",
    "            \n",
    "            for j in range(0, len(attributes)):\n",
    "                href = attributes[j]['href']\n",
    "                title = attributes[j]['title']\n",
    "                company = attributes[j]['company']\n",
    "                date_posted = attributes[j]['date posted']\n",
    "                \n",
    "                print (repr(company),',', repr(title),',', repr(date_posted))\n",
    "                \n",
    "                evaluation = job_score('http://indeed.com' + href)\n",
    "                \n",
    "                if evaluation >= 1:\n",
    "                    newjobslist.append('{0}, {1}, {2}, {3}'.format(company, title, city, 'http://indeed.com' + href))\n",
    "                    \n",
    "                print ('\\n')\n",
    "                \n",
    "            time.sleep(1)\n",
    "           \n",
    "    newjobsstring = '\\n\\n'.join(newjobslist)\n",
    "    return newjobsstring"
   ]
  },
  {
   "cell_type": "markdown",
   "metadata": {},
   "source": [
    "# **Sending an email to myself**"
   ]
  },
  {
   "cell_type": "markdown",
   "metadata": {},
   "source": [
    "I can now send an email to myself using the smtplib library. "
   ]
  },
  {
   "cell_type": "code",
   "execution_count": 7,
   "metadata": {
    "collapsed": true
   },
   "outputs": [],
   "source": [
    "def emailme(from_addr = 'malhotrajat@gmail.com', to_addr = 'rajat.malhotra@utexas.edu', subject = 'Daily Data Science Jobs Update Scraped from Indeed', text = None):\n",
    "    \n",
    "    message = 'Subject: {0}\\n\\nJobs: {1}'.format(subject, text)\n",
    "\n",
    "    # login information\n",
    "    username = 'malhotrajat@gmail.com'\n",
    "    password = 'Funnybones7!'\n",
    "    \n",
    "    # send the message\n",
    "    server = smtplib.SMTP('smtp.gmail.com:587')\n",
    "    server.ehlo()\n",
    "    server.starttls()\n",
    "    server.login(username, password)\n",
    "    server.sendmail(from_addr, to_addr, message)\n",
    "    server.quit()\n",
    "    print ('Please check your mail')"
   ]
  },
  {
   "cell_type": "code",
   "execution_count": 8,
   "metadata": {},
   "outputs": [],
   "source": [
    "def main():\n",
    "    print ('Searching for jobs...')\n",
    "\n",
    "    starting_page = 0\n",
    "    page_limit = 2\n",
    "    datascientist = newjobs(position = 'data+scientist', startingpage = starting_page, pagelimit = page_limit)\n",
    "    emailme(text = datascientist)"
   ]
  },
  {
   "cell_type": "code",
   "execution_count": 9,
   "metadata": {},
   "outputs": [
    {
     "name": "stdout",
     "output_type": "stream",
     "text": [
      "Searching for jobs...\n",
      "URL: http://www.indeed.com/jobs?q=data+scientist&l=New+York&sort=date&start=0 \n",
      "\n",
      "'J.Crew Group, Inc.' , 'Customer Analytics Manager' , 'Just posted'\n",
      "R count: 0 , Python count: 1 , SQL count: 1 , Hadoop count: 0 , Tableau count: 0 ,\n",
      "\n",
      "\n",
      "'Glocomms' , 'Data Scientist' , 'Just posted'\n",
      "R count: 0 , Python count: 1 , SQL count: 1 , Hadoop count: 0 , Tableau count: 0 ,\n",
      "\n",
      "\n",
      "'Wunderman' , 'Financial Analyst - Global Finance' , 'Just posted'\n",
      "R count: 0 , Python count: 0 , SQL count: 0 , Hadoop count: 0 , Tableau count: 0 ,\n",
      "\n",
      "\n",
      "'NYU School of Medicine Pediatrics (S840)' , 'Research Data Associate' , 'Just posted'\n",
      "R count: 0 , Python count: 0 , SQL count: 0 , Hadoop count: 0 , Tableau count: 0 ,\n",
      "\n",
      "\n",
      "'NYU School of Medicine Pediatrics-Bellevue (S623)' , 'Research Data Associate *Must Speak Spanish' , 'Just posted'\n",
      "R count: 0 , Python count: 0 , SQL count: 0 , Hadoop count: 0 , Tableau count: 0 ,\n",
      "\n",
      "\n",
      "'Oliver James Associates' , 'Data Scientist - Life Insurance - NYC' , 'Just posted'\n",
      "R count: 1 , Python count: 1 , SQL count: 0 , Hadoop count: 0 , Tableau count: 0 ,\n",
      "\n",
      "\n",
      "'Brookhaven National Laboratory' , 'Beamline Scientist - - Tender-Energy X-ray Absorption Spectroscopy (TES)' , 'Just posted'\n",
      "R count: 0 , Python count: 2 , SQL count: 0 , Hadoop count: 0 , Tableau count: 0 ,\n",
      "\n",
      "\n",
      "'Clin Labs-Outpatient Lab (H188) NYU Langone Hospit...' , 'Clerk' , 'Just posted'\n",
      "R count: 0 , Python count: 0 , SQL count: 0 , Hadoop count: 0 , Tableau count: 0 ,\n",
      "\n",
      "\n",
      "'Neurology-Neurogenetic Div (S604) NYU School of Me...' , 'Research Coordinator' , 'Just posted'\n",
      "R count: 0 , Python count: 0 , SQL count: 0 , Hadoop count: 0 , Tableau count: 0 ,\n",
      "\n",
      "\n",
      "'Clin Labs-Central Lab Service (H185) NYU Langone H...' , 'Lab Info Systems Coordinator' , 'Just posted'\n",
      "R count: 1 , Python count: 0 , SQL count: 0 , Hadoop count: 0 , Tableau count: 0 ,\n",
      "\n",
      "\n",
      "URL: http://www.indeed.com/jobs?q=data+scientist&l=New+York&sort=date&start=10 \n",
      "\n",
      "'FIN-SPLY CHN-Central Distribut (H599) NYU Langone...' , 'Distribution Attendant' , 'Just posted'\n",
      "R count: 0 , Python count: 0 , SQL count: 0 , Hadoop count: 0 , Tableau count: 0 ,\n",
      "\n",
      "\n",
      "'NSG-OR TH 6 (H377) NYU Langone Hospitals' , 'Secretary II' , 'Just posted'\n",
      "R count: 0 , Python count: 0 , SQL count: 0 , Hadoop count: 0 , Tableau count: 0 ,\n",
      "\n",
      "\n",
      "'Albert Einstein College of Medicine' , 'Research Technician C' , 'Just posted'\n",
      "R count: 2 , Python count: 0 , SQL count: 0 , Hadoop count: 0 , Tableau count: 0 ,\n",
      "\n",
      "\n",
      "'Bristol-Myers Squibb' , 'Supply Chain Technical Specialist' , 'Just posted'\n",
      "R count: 0 , Python count: 0 , SQL count: 0 , Hadoop count: 0 , Tableau count: 0 ,\n",
      "\n",
      "\n",
      "'Open Systems Technologies, Inc.' , 'Senior Java Machine Learning Developer' , 'Just posted'\n",
      "R count: 0 , Python count: 1 , SQL count: 0 , Hadoop count: 0 , Tableau count: 0 ,\n",
      "\n",
      "\n",
      "'Ceros' , 'Data Scientist' , 'Today'\n",
      "R count: 0 , Python count: 0 , SQL count: 1 , Hadoop count: 0 , Tableau count: 0 ,\n",
      "\n",
      "\n",
      "'Techwave Consulting Inc.' , 'Data Scientist - Jr. / Mid Level' , 'Today'\n",
      "R count: 0 , Python count: 1 , SQL count: 1 , Hadoop count: 0 , Tableau count: 0 ,\n",
      "\n",
      "\n",
      "'Bank of America' , 'Investment Manager Research Analyst' , 'Today'\n",
      "R count: 0 , Python count: 0 , SQL count: 0 , Hadoop count: 0 , Tableau count: 0 ,\n",
      "\n",
      "\n",
      "'No Water No Life' , 'Research Assistant Internship' , 'Today'\n",
      "R count: 0 , Python count: 0 , SQL count: 0 , Hadoop count: 0 , Tableau count: 0 ,\n",
      "\n",
      "\n",
      "'Rise corp' , 'Analytics Consultant' , 'Today'\n",
      "R count: 2 , Python count: 1 , SQL count: 0 , Hadoop count: 0 , Tableau count: 0 ,\n",
      "\n",
      "\n",
      "URL: http://www.indeed.com/jobs?q=data+scientist&l=Chicago&sort=date&start=0 \n",
      "\n",
      "'CapTech Consulting' , 'Data Engineer' , 'Just posted'\n",
      "R count: 0 , Python count: 2 , SQL count: 5 , Hadoop count: 0 , Tableau count: 1 ,\n",
      "\n",
      "\n",
      "'Kraft Heinz Company' , 'Scientist, R&D - Specification' , 'Just posted'\n",
      "R count: 0 , Python count: 0 , SQL count: 0 , Hadoop count: 0 , Tableau count: 0 ,\n",
      "\n",
      "\n",
      "'Kraft Heinz Company' , 'Associate Scientist, R&D- Packaging Development' , 'Just posted'\n",
      "R count: 0 , Python count: 0 , SQL count: 0 , Hadoop count: 0 , Tableau count: 0 ,\n",
      "\n",
      "\n",
      "'Conversant Media' , 'Data Scientist' , 'Today'\n",
      "R count: 1 , Python count: 3 , SQL count: 2 , Hadoop count: 1 , Tableau count: 0 ,\n",
      "\n",
      "\n",
      "'AllianceData' , 'Data Scientist' , 'Today'\n",
      "R count: 1 , Python count: 3 , SQL count: 2 , Hadoop count: 1 , Tableau count: 0 ,\n",
      "\n",
      "\n",
      "'Epsilon' , 'Data Scientist' , 'Today'\n",
      "R count: 1 , Python count: 3 , SQL count: 2 , Hadoop count: 1 , Tableau count: 0 ,\n",
      "\n",
      "\n",
      "'Groupon' , 'Data Scientist - Optimize' , 'Today'\n",
      "R count: 2 , Python count: 2 , SQL count: 2 , Hadoop count: 1 , Tableau count: 0 ,\n",
      "\n",
      "\n",
      "'Workbridge Associates' , 'Data Scientist (Python, R, SQL)' , 'Today'\n",
      "R count: 3 , Python count: 4 , SQL count: 4 , Hadoop count: 0 , Tableau count: 1 ,\n",
      "\n",
      "\n",
      "'Nielsen' , 'Sr. Software Engineer (Full Stack)' , 'Today'\n",
      "R count: 0 , Python count: 1 , SQL count: 2 , Hadoop count: 0 , Tableau count: 0 ,\n",
      "\n",
      "\n",
      "'Technology Partners' , 'Software QA/Test-Expert' , 'Today'\n",
      "R count: 0 , Python count: 2 , SQL count: 0 , Hadoop count: 0 , Tableau count: 0 ,\n",
      "\n",
      "\n",
      "URL: http://www.indeed.com/jobs?q=data+scientist&l=Chicago&sort=date&start=10 \n",
      "\n",
      "'Block Six Analytics' , 'Web Designer' , 'Today'\n",
      "R count: 0 , Python count: 0 , SQL count: 0 , Hadoop count: 0 , Tableau count: 0 ,\n",
      "\n",
      "\n",
      "'Chicago State University' , 'Student Research Assistant' , 'Today'\n",
      "R count: 0 , Python count: 0 , SQL count: 0 , Hadoop count: 0 , Tableau count: 0 ,\n",
      "\n",
      "\n",
      "'TransTech LLC' , 'Sr. Data Scientist' , 'Today'\n",
      "R count: 1 , Python count: 2 , SQL count: 2 , Hadoop count: 1 , Tableau count: 1 ,\n",
      "\n",
      "\n",
      "'The Boston Consulting Group' , 'Senior Systems (DevOps) Engineer' , 'Today'\n",
      "R count: 0 , Python count: 1 , SQL count: 2 , Hadoop count: 1 , Tableau count: 0 ,\n",
      "\n",
      "\n",
      "'Blue Cross Blue Shield of IL, MT, NM, OK & TX' , 'Associate Data Scientist' , 'Today'\n",
      "R count: 1 , Python count: 1 , SQL count: 1 , Hadoop count: 0 , Tableau count: 0 ,\n",
      "\n",
      "\n",
      "'Catalina Marketing' , 'Senior Director, Data Science' , 'Today'\n",
      "R count: 2 , Python count: 3 , SQL count: 2 , Hadoop count: 2 , Tableau count: 0 ,\n",
      "\n",
      "\n",
      "'The Marketing Store' , 'Lead Data Scientist' , 'Today'\n",
      "R count: 2 , Python count: 2 , SQL count: 2 , Hadoop count: 0 , Tableau count: 0 ,\n",
      "\n",
      "\n",
      "'Bank of America' , 'Sr Quantitative Finance Analyst' , 'Today'\n",
      "R count: 0 , Python count: 1 , SQL count: 0 , Hadoop count: 0 , Tableau count: 0 ,\n",
      "\n",
      "\n",
      "'Honeywell' , 'Sr Research & Development Tech' , 'Today'\n",
      "R count: 0 , Python count: 0 , SQL count: 0 , Hadoop count: 0 , Tableau count: 0 ,\n",
      "\n",
      "\n",
      "'Dataiku' , 'Sales Engineer for Data Science- West Coast or Central Region' , '1 day ago'\n",
      "R count: 2 , Python count: 1 , SQL count: 0 , Hadoop count: 1 , Tableau count: 0 ,\n",
      "\n",
      "\n",
      "URL: http://www.indeed.com/jobs?q=data+scientist&l=Austin&sort=date&start=0 \n",
      "\n",
      "'IGT' , 'Market Research Analyst I' , 'Just posted'\n",
      "R count: 0 , Python count: 0 , SQL count: 0 , Hadoop count: 0 , Tableau count: 1 ,\n",
      "\n",
      "\n",
      "'Camillogic' , 'Data Scientist - Sr Level - 120k-140k' , 'Today'\n",
      "R count: 1 , Python count: 1 , SQL count: 1 , Hadoop count: 1 , Tableau count: 0 ,\n",
      "\n",
      "\n",
      "'COMPTROLLER OF PUBLIC ACCOUNTS' , 'CPA- Data Analyst (Data Analysis & Transparency)' , 'Today'\n",
      "R count: 0 , Python count: 0 , SQL count: 0 , Hadoop count: 0 , Tableau count: 0 ,\n",
      "\n",
      "\n",
      "'National instrument' , 'Software Engineer - Documentation Technologies' , 'Today'\n",
      "R count: 0 , Python count: 0 , SQL count: 0 , Hadoop count: 0 , Tableau count: 0 ,\n",
      "\n",
      "\n",
      "'RetailMeNot, Inc.' , 'Quality Engineer II' , 'Today'\n",
      "R count: 0 , Python count: 1 , SQL count: 2 , Hadoop count: 0 , Tableau count: 0 ,\n",
      "\n",
      "\n",
      "'Msys Technologies' , 'Sr. Data Scientist ( more than 10 + exp)' , 'Today'\n",
      "R count: 1 , Python count: 1 , SQL count: 0 , Hadoop count: 1 , Tableau count: 0 ,\n",
      "\n",
      "\n",
      "'National Instruments' , 'Software Engineer - Documentation Technologies' , 'Today'\n",
      "R count: 0 , Python count: 0 , SQL count: 0 , Hadoop count: 0 , Tableau count: 0 ,\n",
      "\n",
      "\n",
      "'Department of the Interior' , 'Geographer Recent Graduate, GS-0150-07 (SH-RG)' , 'Today'\n",
      "R count: 1 , Python count: 0 , SQL count: 0 , Hadoop count: 0 , Tableau count: 0 ,\n",
      "\n",
      "\n",
      "'Walmart' , '2018 Full time: GBS - Sr. Statistical Analyst, DES - Austin, TX' , '1 day ago'\n",
      "R count: 0 , Python count: 0 , SQL count: 2 , Hadoop count: 0 , Tableau count: 0 ,\n",
      "\n",
      "\n",
      "'University of Texas at Austin' , 'Research Scientist - Sedimentary Petrographer' , '1 day ago'\n"
     ]
    },
    {
     "name": "stdout",
     "output_type": "stream",
     "text": [
      "R count: 0 , Python count: 0 , SQL count: 0 , Hadoop count: 0 , Tableau count: 0 ,\n",
      "\n",
      "\n",
      "URL: http://www.indeed.com/jobs?q=data+scientist&l=Austin&sort=date&start=10 \n",
      "\n",
      "'KORE1 Technologies' , 'Senior Data Scientist' , '1 day ago'\n",
      "R count: 0 , Python count: 1 , SQL count: 0 , Hadoop count: 0 , Tableau count: 0 ,\n",
      "\n",
      "\n",
      "'Civitas Learning' , 'Product Marketing Manager' , '1 day ago'\n",
      "R count: 0 , Python count: 0 , SQL count: 0 , Hadoop count: 0 , Tableau count: 0 ,\n",
      "\n",
      "\n",
      "'HomeAway' , 'Senior Data Scientist' , '2 days ago'\n",
      "R count: 1 , Python count: 1 , SQL count: 1 , Hadoop count: 1 , Tableau count: 0 ,\n",
      "\n",
      "\n",
      "'Senseye' , 'Sr. Research Scientist' , '2 days ago'\n",
      "R count: 0 , Python count: 0 , SQL count: 0 , Hadoop count: 0 , Tableau count: 0 ,\n",
      "\n",
      "\n",
      "'Far Harbor, LLC' , 'Public Health Research Statistician' , '2 days ago'\n",
      "R count: 0 , Python count: 0 , SQL count: 0 , Hadoop count: 0 , Tableau count: 0 ,\n",
      "\n",
      "\n",
      "'Senseye' , 'Research Assistant' , '2 days ago'\n",
      "R count: 0 , Python count: 0 , SQL count: 0 , Hadoop count: 0 , Tableau count: 0 ,\n",
      "\n",
      "\n",
      "'State Street' , 'Entry Level - Data Scientist and Cognitive Engineer - Austin' , '3 days ago'\n",
      "R count: 0 , Python count: 1 , SQL count: 3 , Hadoop count: 0 , Tableau count: 0 ,\n",
      "\n",
      "\n",
      "'State Street' , 'Entry Level - Cognitive Software Engineer - Austin' , '3 days ago'\n",
      "R count: 0 , Python count: 1 , SQL count: 2 , Hadoop count: 0 , Tableau count: 0 ,\n",
      "\n",
      "\n",
      "'RetailMeNot, Inc.' , 'Lead Data Scientist' , '4 days ago'\n",
      "R count: 0 , Python count: 1 , SQL count: 1 , Hadoop count: 1 , Tableau count: 0 ,\n",
      "\n",
      "\n",
      "'Invenio Marketing Solutions' , 'Inside Sales Representative - Mediacom' , '4 days ago'\n",
      "R count: 0 , Python count: 0 , SQL count: 0 , Hadoop count: 0 , Tableau count: 0 ,\n",
      "\n",
      "\n",
      "Please check your mail\n"
     ]
    }
   ],
   "source": [
    "main()"
   ]
  },
  {
   "cell_type": "markdown",
   "metadata": {
    "collapsed": true
   },
   "source": [
    "# **Ending Remarks**"
   ]
  },
  {
   "cell_type": "markdown",
   "metadata": {},
   "source": [
    "This was a pretty interesting project to complete and a lot of fun too. I am sure there are many improvements that can be made and it can give more information too. More changes may be made in future."
   ]
  }
 ],
 "metadata": {
  "kernelspec": {
   "display_name": "Python 3",
   "language": "python",
   "name": "python3"
  },
  "language_info": {
   "codemirror_mode": {
    "name": "ipython",
    "version": 3
   },
   "file_extension": ".py",
   "mimetype": "text/x-python",
   "name": "python",
   "nbconvert_exporter": "python",
   "pygments_lexer": "ipython3",
   "version": "3.6.1"
  }
 },
 "nbformat": 4,
 "nbformat_minor": 2
}
